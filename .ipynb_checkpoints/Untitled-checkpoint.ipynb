{
 "cells": [
  {
   "cell_type": "code",
   "execution_count": 23,
   "metadata": {},
   "outputs": [
    {
     "data": {
      "text/plain": [
       "<Response [200]>"
      ]
     },
     "execution_count": 23,
     "metadata": {},
     "output_type": "execute_result"
    }
   ],
   "source": [
    "import requests\n",
    "url = 'https://raw.githubusercontent.com/alanwong626/market-monitoring/main/app.py'\n",
    "\n",
    "requests.get(url)"
   ]
  },
  {
   "cell_type": "code",
   "execution_count": 24,
   "metadata": {},
   "outputs": [],
   "source": [
    "r = requests.get(url)\n"
   ]
  },
  {
   "cell_type": "code",
   "execution_count": 25,
   "metadata": {},
   "outputs": [
    {
     "data": {
      "text/plain": [
       "'import yfinance as yf\\nimport streamlit as st\\nimport datetime\\nimport pandas as pd\\nimport matplotlib.pyplot as plt\\nimport numpy as np\\nimport plotly.express as px \\nimport plotly.graph_objects as go\\nfrom plotly.subplots import make_subplots\\nimport base64\\nfrom io import BytesIO\\n\\n### for rss\\nimport json\\nimport requests\\nimport xmltojson\\nimport numpy as np\\nfrom textblob import TextBlob\\nimport datetime\\n\\n### for python code\\nimport urllib\\n\\n#################CONFIG##########################\\ntheme = \"simple_white\"\\n################################################\\n\\nst.write(\"\"\"\\n# Market Monitoring\\n\"\"\")\\n\\nst.sidebar.header(\\'Filter\\')\\n\\ntoday = datetime.date.today()\\ndef user_input_features():\\n    ticker = st.sidebar.text_input(\"Ticker\", \\'9988.HK\\')\\n    start_date = st.sidebar.text_input(\"Start Date\", f\\'{today-datetime.timedelta(90)}\\')\\n    end_date = st.sidebar.text_input(\"End Date\", f\\'{today}\\')\\n    return ticker, start_date, end_date\\n\\nsymbol, start, end = user_input_features()\\n\\ntry:\\n    start = pd.to_datetime(start)\\n    end = pd.to_datetime(end)\\nexcept ValueError:\\n    st.error(\\'Please enter a valid Date with format yyyy-mm-dd\\')\\n\\n\\ntickerData = yf.Ticker(symbol)\\n# st.error(\\'Please enter a valid ticker\\')\\nvalid_ticker = True\\ntry:\\n    tickerInfo = tickerData.info\\nexcept:\\n    st.error(\\'Please enter a valid ticker\\')\\n    valid_ticker = False\\n\\n##### Run the app only when the ticker input is valid (Plus have information(?))\\ndef main_app():\\n    # @st.cache\\n    def tickerDataFrame(start,end):\\n        tickerDf = tickerData.history(start=start, end=end)\\n        return tickerDf\\n    tickerDf = tickerDataFrame(start,end)\\n\\n\\n\\n    # st.write(\"\"\"\\n    # # Simple Stock Price App\\n    # Shown are the stock **closing price** and ***volume*** of ***{}***\\n    # \"\"\".format(tickerInfo[\\'longName\\']))\\n\\n    st.write(f\"\"\"\\n    # {tickerInfo[\\'longName\\']}\\n    Last price at ***{round(tickerDf[\"Close\"][-1],2)} {tickerInfo[\\'currency\\']}***\\n    \"\"\")\\n\\n    ################################################################################################################################\\n    # Create figure with secondary y-axis\\n    fig = make_subplots(specs=[[{\"secondary_y\": True}]])\\n\\n    # Add traces\\n    fig.add_trace(\\n        go.Bar(x=tickerDf.index,y = tickerDf.Volume, name=\"Volume\",marker_color=\"#F6D55C\"),\\n        secondary_y=False,\\n    )\\n\\n    Y2 = tickerDf.Volume.values\\n\\n    fig.add_trace(\\n        go.Line(x=tickerDf.index,y = tickerDf.Close, name=\"Close\",line=dict(width=3,color=\"#173F5F\")),\\n        secondary_y=True,\\n    )\\n\\n    # Add figure title\\n    fig.update_layout(\\n        title_text=\"<b>Stock Price and Trading Volume of {} \".format(tickerInfo[\\'longName\\']),\\n        title_x=0.5,\\n        title_font_family=\"Helvetica\",\\n        title_font_color=\"Black\",\\n        title_font_size=18\\n    )\\n\\n    fig.update_layout(\\n        yaxis=dict(range=[min(Y2),max(Y2*3.5)]),\\n        template=f\"{theme}\"\\n    )\\n\\n    # Set x-axis title\\n    fig.update_xaxes(title_text=\"Date\")\\n\\n    # Set y-axes titles\\n    fig.update_yaxes(title_text=\"<b>Volume</b>\",side = \"right\", secondary_y=False)\\n    fig.update_yaxes(title_text=\"<b>Pirce</b>\",side = \"left\", secondary_y=True)\\n    st.plotly_chart(fig)\\n\\n    def to_excel(df):\\n        output = BytesIO()\\n        writer = pd.ExcelWriter(output, engine=\\'xlsxwriter\\')\\n        df.to_excel(writer, sheet_name=\\'Sheet1\\')\\n        writer.save()\\n        processed_data = output.getvalue()\\n        return processed_data\\n\\n    def get_table_download_link(df):\\n        \"\"\"Generates a link allowing the data in a given panda dataframe to be downloaded\\n        in:  dataframe\\n        out: href string\\n        \"\"\"\\n        val = to_excel(df)\\n        b64 = base64.b64encode(val)  # val looks like b\\'...\\'\\n        return f\\'<a href=\"data:application/octet-stream;base64,{b64.decode()}\" download=\"extract.xlsx\">Download data as csv</a>\\' # decode b\\'abc\\' => abc\\n\\n\\n    with st.beta_expander(\\'Data Table\\'):\\n        # st.line_chart(tickerDf.Close)\\n        st.dataframe(tickerDf)\\n        df = tickerDf # your dataframe\\n        st.markdown(get_table_download_link(df), unsafe_allow_html=True)\\n\\n    with st.beta_expander(\\'Stock Info\\'):\\n        st.json(tickerInfo)\\n    ########################################################################################################################################\\n\\n    def get_news(query,days=1):\\n        def google_news(query, days):\\n            link = \"https://news.google.com/news/rss/headlines/section/topic/BUSINESS/search?q={}+when:{}d\".format(query,days)\\n            return link\\n        link = google_news(query,days)\\n        r = requests.get(link)\\n        res = json.loads(xmltojson.parse(requests.get(link).text))\\n        headlines =[]\\n        try:\\n            for item in res[\\'rss\\'][\"channel\"][\\'item\\']:\\n                headline = {}\\n                headline[\\'Date\\'] = item[\\'pubDate\\']\\n                headline[\\'Title\\'] = item[\\'title\\']\\n                headline[\\'Link\\'] = item[\"link\"]\\n                headlines.append(headline)\\n        except KeyError:\\n            st.write(\"\"\"\\n            Data unavailable \\n            \"\"\")\\n        news = pd.DataFrame(headlines)\\n        polarity = lambda x: round(TextBlob(x).sentiment.polarity,2)\\n        subjectivity = lambda x: round(TextBlob(x).sentiment.subjectivity,2)\\n        news_polarity = np.zeros(len(news[\\'Title\\']))\\n        news_subjectivity = np.zeros(len(news[\\'Title\\']))\\n        for idx, headline in enumerate(news[\"Title\"]):\\n        #     try:\\n            news_polarity[idx] = polarity(headline)\\n            news_subjectivity[idx] = subjectivity(headline)\\n        #     except:\\n        #         pass\\n        news[\"Polarity\"]=news_polarity\\n        date = lambda x : datetime.datetime.strptime(x.split(\",\")[1][1:-4],\\'%d %b %Y %H:%M:%S\\')\\n        news[\\'Date\\'] = news[\"Date\"].apply(date)\\n        return news\\n\\n    newsDf = get_news(tickerInfo[\"longName\"],days=3)\\n    newsDf[\"Date\"] = newsDf[\"Date\"].dt.strftime(\"%d/%m %H:%M\")\\n    newsDf = newsDf.set_index(\"Date\")\\n    with st.beta_expander(\\'Google News\\'):\\n        st.dataframe(newsDf)\\n\\n    def get_file_content_as_string(path):\\n        url = \\'https://raw.githubusercontent.com/alanwong626/market-monitoring/main/app.py\\'\\n        response = urllib.request.urlopen(url)\\n        return response.read().decode(\"utf-8\")\\n\\n    with st.beta_expander(\"This app\\'s Python code\"):\\n        st.code(get_file_content_as_string(\"streamlit_app.py\"))\\n        st.markdown(\"[View on GitHub](https://github.com/alanwong626/market-m onitoring)\",unsafe_allow_html=True)\\n\\n    with st.beta_expander(\"To do list\"):\\n        toDo = dict(\\n            One = \"Add option to compare multiple stocks\",\\n            Two = \"Create dashboard to get best/worst performing stocks of majot indexes (WIP)\",\\n            Three = \"Allow users to search a stock with company name\",\\n            Four = \"Add other sources to obtain data for other assets\",\\n            Five = \"Fix the news tap, allow user to click on hyperlink to news\",\\n            Six = \"Add main page to view most important information (to be defined)\",\\n            Seven = \"Add other ML features, inclduing sentiment scores(?)\"\\n        )\\n        st.json(toDo)\\n\\n\\nif valid_ticker == True:\\n    main_app()'"
      ]
     },
     "execution_count": 25,
     "metadata": {},
     "output_type": "execute_result"
    }
   ],
   "source": [
    "r.text"
   ]
  },
  {
   "cell_type": "code",
   "execution_count": 26,
   "metadata": {},
   "outputs": [],
   "source": [
    "import urllib\n",
    "url = 'https://raw.githubusercontent.com/alanwong626/market-monitoring/main/app.py'\n",
    "response = urllib.request.urlopen(url)\n",
    "x = response.read().decode(\"utf-8\")"
   ]
  },
  {
   "cell_type": "code",
   "execution_count": 27,
   "metadata": {},
   "outputs": [
    {
     "data": {
      "text/plain": [
       "True"
      ]
     },
     "execution_count": 27,
     "metadata": {},
     "output_type": "execute_result"
    }
   ],
   "source": [
    "x == r.text"
   ]
  },
  {
   "cell_type": "code",
   "execution_count": 54,
   "metadata": {},
   "outputs": [],
   "source": [
    "import yfinance as yf\n",
    "ticker = yf.Ticker(\"9988.HK\")\n",
    "close = ticker.history(period =\"max\").Close"
   ]
  },
  {
   "cell_type": "code",
   "execution_count": 55,
   "metadata": {},
   "outputs": [],
   "source": [
    "# close.pct_change(2)"
   ]
  },
  {
   "cell_type": "code",
   "execution_count": 56,
   "metadata": {},
   "outputs": [],
   "source": [
    "import datetime"
   ]
  },
  {
   "cell_type": "code",
   "execution_count": 57,
   "metadata": {},
   "outputs": [],
   "source": [
    "today = datetime.datetime.today()\n",
    "lDOM = today.replace(day=1) - datetime.timedelta(1)"
   ]
  },
  {
   "cell_type": "code",
   "execution_count": 70,
   "metadata": {},
   "outputs": [],
   "source": [
    "mtd = today - lDOM\n"
   ]
  },
  {
   "cell_type": "code",
   "execution_count": 71,
   "metadata": {},
   "outputs": [
    {
     "data": {
      "text/plain": [
       "Date\n",
       "2019-11-26    187.6\n",
       "2019-11-27    193.2\n",
       "2019-11-28    204.0\n",
       "2019-11-29    198.4\n",
       "2019-12-02    195.5\n",
       "              ...  \n",
       "2020-12-02    255.2\n",
       "2020-12-03    257.4\n",
       "2020-12-04    264.0\n",
       "2020-12-07    258.0\n",
       "2020-12-08    258.0\n",
       "Name: Close, Length: 256, dtype: float64"
      ]
     },
     "execution_count": 71,
     "metadata": {},
     "output_type": "execute_result"
    }
   ],
   "source": [
    "close"
   ]
  },
  {
   "cell_type": "code",
   "execution_count": 73,
   "metadata": {},
   "outputs": [
    {
     "ename": "TypeError",
     "evalue": "Cannot index by location index with a non-integer key",
     "output_type": "error",
     "traceback": [
      "\u001b[0;31m---------------------------------------------------------------------------\u001b[0m",
      "\u001b[0;31mTypeError\u001b[0m                                 Traceback (most recent call last)",
      "\u001b[0;32m<ipython-input-73-9343b2709245>\u001b[0m in \u001b[0;36m<module>\u001b[0;34m\u001b[0m\n\u001b[0;32m----> 1\u001b[0;31m \u001b[0mclose\u001b[0m\u001b[0;34m.\u001b[0m\u001b[0miloc\u001b[0m\u001b[0;34m[\u001b[0m\u001b[0;34m\"2020-12-07\"\u001b[0m\u001b[0;34m]\u001b[0m\u001b[0;34m\u001b[0m\u001b[0;34m\u001b[0m\u001b[0m\n\u001b[0m",
      "\u001b[0;32m~/opt/anaconda3/lib/python3.7/site-packages/pandas/core/indexing.py\u001b[0m in \u001b[0;36m__getitem__\u001b[0;34m(self, key)\u001b[0m\n\u001b[1;32m   1422\u001b[0m \u001b[0;34m\u001b[0m\u001b[0m\n\u001b[1;32m   1423\u001b[0m             \u001b[0mmaybe_callable\u001b[0m \u001b[0;34m=\u001b[0m \u001b[0mcom\u001b[0m\u001b[0;34m.\u001b[0m\u001b[0mapply_if_callable\u001b[0m\u001b[0;34m(\u001b[0m\u001b[0mkey\u001b[0m\u001b[0;34m,\u001b[0m \u001b[0mself\u001b[0m\u001b[0;34m.\u001b[0m\u001b[0mobj\u001b[0m\u001b[0;34m)\u001b[0m\u001b[0;34m\u001b[0m\u001b[0;34m\u001b[0m\u001b[0m\n\u001b[0;32m-> 1424\u001b[0;31m             \u001b[0;32mreturn\u001b[0m \u001b[0mself\u001b[0m\u001b[0;34m.\u001b[0m\u001b[0m_getitem_axis\u001b[0m\u001b[0;34m(\u001b[0m\u001b[0mmaybe_callable\u001b[0m\u001b[0;34m,\u001b[0m \u001b[0maxis\u001b[0m\u001b[0;34m=\u001b[0m\u001b[0maxis\u001b[0m\u001b[0;34m)\u001b[0m\u001b[0;34m\u001b[0m\u001b[0;34m\u001b[0m\u001b[0m\n\u001b[0m\u001b[1;32m   1425\u001b[0m \u001b[0;34m\u001b[0m\u001b[0m\n\u001b[1;32m   1426\u001b[0m     \u001b[0;32mdef\u001b[0m \u001b[0m_is_scalar_access\u001b[0m\u001b[0;34m(\u001b[0m\u001b[0mself\u001b[0m\u001b[0;34m,\u001b[0m \u001b[0mkey\u001b[0m\u001b[0;34m:\u001b[0m \u001b[0mTuple\u001b[0m\u001b[0;34m)\u001b[0m\u001b[0;34m:\u001b[0m\u001b[0;34m\u001b[0m\u001b[0;34m\u001b[0m\u001b[0m\n",
      "\u001b[0;32m~/opt/anaconda3/lib/python3.7/site-packages/pandas/core/indexing.py\u001b[0m in \u001b[0;36m_getitem_axis\u001b[0;34m(self, key, axis)\u001b[0m\n\u001b[1;32m   2152\u001b[0m             \u001b[0mkey\u001b[0m \u001b[0;34m=\u001b[0m \u001b[0mitem_from_zerodim\u001b[0m\u001b[0;34m(\u001b[0m\u001b[0mkey\u001b[0m\u001b[0;34m)\u001b[0m\u001b[0;34m\u001b[0m\u001b[0;34m\u001b[0m\u001b[0m\n\u001b[1;32m   2153\u001b[0m             \u001b[0;32mif\u001b[0m \u001b[0;32mnot\u001b[0m \u001b[0mis_integer\u001b[0m\u001b[0;34m(\u001b[0m\u001b[0mkey\u001b[0m\u001b[0;34m)\u001b[0m\u001b[0;34m:\u001b[0m\u001b[0;34m\u001b[0m\u001b[0;34m\u001b[0m\u001b[0m\n\u001b[0;32m-> 2154\u001b[0;31m                 \u001b[0;32mraise\u001b[0m \u001b[0mTypeError\u001b[0m\u001b[0;34m(\u001b[0m\u001b[0;34m\"Cannot index by location index with a non-integer key\"\u001b[0m\u001b[0;34m)\u001b[0m\u001b[0;34m\u001b[0m\u001b[0;34m\u001b[0m\u001b[0m\n\u001b[0m\u001b[1;32m   2155\u001b[0m \u001b[0;34m\u001b[0m\u001b[0m\n\u001b[1;32m   2156\u001b[0m             \u001b[0;31m# validate the location\u001b[0m\u001b[0;34m\u001b[0m\u001b[0;34m\u001b[0m\u001b[0;34m\u001b[0m\u001b[0m\n",
      "\u001b[0;31mTypeError\u001b[0m: Cannot index by location index with a non-integer key"
     ]
    }
   ],
   "source": [
    "close.iloc[\"2020-12-07\"]"
   ]
  },
  {
   "cell_type": "code",
   "execution_count": 84,
   "metadata": {},
   "outputs": [
    {
     "name": "stdout",
     "output_type": "stream",
     "text": [
      "[*********************100%***********************]  1 of 1 completed\n",
      "[*********************100%***********************]  1 of 1 completed\n"
     ]
    },
    {
     "data": {
      "text/html": [
       "<div>\n",
       "<style scoped>\n",
       "    .dataframe tbody tr th:only-of-type {\n",
       "        vertical-align: middle;\n",
       "    }\n",
       "\n",
       "    .dataframe tbody tr th {\n",
       "        vertical-align: top;\n",
       "    }\n",
       "\n",
       "    .dataframe thead th {\n",
       "        text-align: right;\n",
       "    }\n",
       "</style>\n",
       "<table border=\"1\" class=\"dataframe\">\n",
       "  <thead>\n",
       "    <tr style=\"text-align: right;\">\n",
       "      <th></th>\n",
       "      <th>stock</th>\n",
       "      <th>Close</th>\n",
       "      <th>Daily</th>\n",
       "      <th>WTD</th>\n",
       "      <th>MTD</th>\n",
       "      <th>YTD</th>\n",
       "    </tr>\n",
       "  </thead>\n",
       "  <tbody>\n",
       "    <tr>\n",
       "      <td>0</td>\n",
       "      <td>IWM</td>\n",
       "      <td>189.029999</td>\n",
       "      <td>0.345044</td>\n",
       "      <td>0.345044</td>\n",
       "      <td>3.464697</td>\n",
       "      <td>22.826515</td>\n",
       "    </tr>\n",
       "    <tr>\n",
       "      <td>0</td>\n",
       "      <td>IBM</td>\n",
       "      <td>125.824799</td>\n",
       "      <td>0.902006</td>\n",
       "      <td>0.902006</td>\n",
       "      <td>2.163685</td>\n",
       "      <td>-18.428007</td>\n",
       "    </tr>\n",
       "  </tbody>\n",
       "</table>\n",
       "</div>"
      ],
      "text/plain": [
       "  stock       Close     Daily       WTD       MTD        YTD\n",
       "0   IWM  189.029999  0.345044  0.345044  3.464697  22.826515\n",
       "0   IBM  125.824799  0.902006  0.902006  2.163685 -18.428007"
      ]
     },
     "execution_count": 84,
     "metadata": {},
     "output_type": "execute_result"
    }
   ],
   "source": [
    "import pandas as pd\n",
    "import datetime\n",
    "from pandas_datareader import data,wb\n",
    "tickers = ['IWM', 'IBM']\n",
    "df_list = []\n",
    "for ticker in tickers:\n",
    "    prices = data.DataReader(ticker, 'yahoo', '2019')['Close']\n",
    "    \n",
    "    # get all timestamps for specific lookups\n",
    "    today = prices.index[-1]\n",
    "    yest= prices.index[-2]\n",
    "    start = prices.index[0]\n",
    "    week = today - pd.tseries.offsets.Week(weekday=0)\n",
    "    month = today - pd.tseries.offsets.BMonthBegin()\n",
    "\n",
    "    # calculate percentage changes\n",
    "    close = prices[today]\n",
    "    daily =  (close - prices[yest]) / prices[yest] * 100\n",
    "    wtd = (close - prices[week]) / prices[week] * 100\n",
    "    mtd = (close - prices[month]) / prices[month] * 100\n",
    "    ytd = (close - prices[start]) / prices[start]* 100\n",
    "\n",
    "    # create temporary frame for current ticker\n",
    "    df = pd.DataFrame(data=[[ticker, close, daily, wtd, mtd,  ytd]], \n",
    "                      columns=['stock', 'Close', 'Daily', 'WTD', 'MTD', 'YTD'])\n",
    "    df_list.append(df)\n",
    "\n",
    "# stack all frames\n",
    "pd.concat(df_list)"
   ]
  },
  {
   "cell_type": "code",
   "execution_count": 85,
   "metadata": {},
   "outputs": [
    {
     "data": {
      "text/plain": [
       "Date\n",
       "2018-01-02    154.250000\n",
       "2018-01-03    158.490005\n",
       "2018-01-04    161.699997\n",
       "2018-01-05    162.490005\n",
       "2018-01-08    163.470001\n",
       "                 ...    \n",
       "2020-12-02    124.620003\n",
       "2020-12-03    123.610001\n",
       "2020-12-04    127.199997\n",
       "2020-12-07    124.699997\n",
       "2020-12-08    125.824799\n",
       "Name: Close, Length: 740, dtype: float64"
      ]
     },
     "execution_count": 85,
     "metadata": {},
     "output_type": "execute_result"
    }
   ],
   "source": [
    "prices"
   ]
  },
  {
   "cell_type": "code",
   "execution_count": 105,
   "metadata": {},
   "outputs": [
    {
     "data": {
      "text/html": [
       "<div>\n",
       "<style scoped>\n",
       "    .dataframe tbody tr th:only-of-type {\n",
       "        vertical-align: middle;\n",
       "    }\n",
       "\n",
       "    .dataframe tbody tr th {\n",
       "        vertical-align: top;\n",
       "    }\n",
       "\n",
       "    .dataframe thead th {\n",
       "        text-align: right;\n",
       "    }\n",
       "</style>\n",
       "<table border=\"1\" class=\"dataframe\">\n",
       "  <thead>\n",
       "    <tr style=\"text-align: right;\">\n",
       "      <th></th>\n",
       "      <th>stock</th>\n",
       "      <th>Close</th>\n",
       "      <th>Daily</th>\n",
       "      <th>WTD</th>\n",
       "      <th>MTD</th>\n",
       "      <th>YTD</th>\n",
       "    </tr>\n",
       "  </thead>\n",
       "  <tbody>\n",
       "    <tr>\n",
       "      <td>0</td>\n",
       "      <td>9988.HK</td>\n",
       "      <td>258.00</td>\n",
       "      <td>0.000000</td>\n",
       "      <td>0.000000</td>\n",
       "      <td>0.311037</td>\n",
       "      <td>37.526648</td>\n",
       "    </tr>\n",
       "    <tr>\n",
       "      <td>0</td>\n",
       "      <td>3311.HK</td>\n",
       "      <td>4.91</td>\n",
       "      <td>-2.964429</td>\n",
       "      <td>-2.964429</td>\n",
       "      <td>-3.913900</td>\n",
       "      <td>-18.302834</td>\n",
       "    </tr>\n",
       "  </tbody>\n",
       "</table>\n",
       "</div>"
      ],
      "text/plain": [
       "     stock   Close     Daily       WTD       MTD        YTD\n",
       "0  9988.HK  258.00  0.000000  0.000000  0.311037  37.526648\n",
       "0  3311.HK    4.91 -2.964429 -2.964429 -3.913900 -18.302834"
      ]
     },
     "execution_count": 105,
     "metadata": {},
     "output_type": "execute_result"
    }
   ],
   "source": [
    "tickers = ['9988.HK', '3311.HK']\n",
    "\n",
    "def get_pct_changes(tickers):\n",
    "    df_list = []\n",
    "    for ticker in tickers:\n",
    "        prices = data.DataReader(ticker, 'yahoo', '2019')['Close']\n",
    "        \n",
    "\n",
    "        # get all timestamps for specific lookups\n",
    "        today = prices.index[-1]\n",
    "        yest= prices.index[-2]\n",
    "        start = prices.index[0]\n",
    "        week = today - pd.tseries.offsets.Week(weekday=0)\n",
    "        month = today - pd.tseries.offsets.BMonthBegin()\n",
    "\n",
    "        # calculate percentage changes\n",
    "        close = prices[today]\n",
    "        daily =  (close - prices[yest]) / prices[yest] * 100\n",
    "        wtd = (close - prices[week]) / prices[week] * 100\n",
    "        mtd = (close - prices[month]) / prices[month] * 100\n",
    "        ytd = (close - prices[start]) / prices[start]* 100\n",
    "\n",
    "        # create temporary frame for current ticker\n",
    "        df = pd.DataFrame(data=[[ticker, close, daily, wtd, mtd,  ytd]], \n",
    "                          columns=['stock', 'Close', 'Daily', 'WTD', 'MTD', 'YTD'])\n",
    "        df_list.append(df)\n",
    "    changes = pd.concat(df_list)\n",
    "    return changes\n",
    "\n",
    "# stack all frames\n",
    "get_pct_changes(tickers)"
   ]
  },
  {
   "cell_type": "code",
   "execution_count": 119,
   "metadata": {},
   "outputs": [
    {
     "name": "stdout",
     "output_type": "stream",
     "text": [
      "[*********************100%***********************]  1 of 1 completed\n",
      "2019-12-31 00:00:00\n",
      "[*********************100%***********************]  1 of 1 completed\n",
      "2019-12-31 00:00:00\n"
     ]
    },
    {
     "data": {
      "text/html": [
       "<div>\n",
       "<style scoped>\n",
       "    .dataframe tbody tr th:only-of-type {\n",
       "        vertical-align: middle;\n",
       "    }\n",
       "\n",
       "    .dataframe tbody tr th {\n",
       "        vertical-align: top;\n",
       "    }\n",
       "\n",
       "    .dataframe thead th {\n",
       "        text-align: right;\n",
       "    }\n",
       "</style>\n",
       "<table border=\"1\" class=\"dataframe\">\n",
       "  <thead>\n",
       "    <tr style=\"text-align: right;\">\n",
       "      <th></th>\n",
       "      <th>stock</th>\n",
       "      <th>Close</th>\n",
       "      <th>Daily</th>\n",
       "      <th>WTD</th>\n",
       "      <th>MTD</th>\n",
       "      <th>YTD</th>\n",
       "    </tr>\n",
       "  </thead>\n",
       "  <tbody>\n",
       "    <tr>\n",
       "      <td>0</td>\n",
       "      <td>9988.HK</td>\n",
       "      <td>258.00</td>\n",
       "      <td>0.000000</td>\n",
       "      <td>-2.272727</td>\n",
       "      <td>-1.300686</td>\n",
       "      <td>24.517376</td>\n",
       "    </tr>\n",
       "    <tr>\n",
       "      <td>0</td>\n",
       "      <td>3311.HK</td>\n",
       "      <td>4.91</td>\n",
       "      <td>-2.964429</td>\n",
       "      <td>-3.725491</td>\n",
       "      <td>-4.101563</td>\n",
       "      <td>-30.649719</td>\n",
       "    </tr>\n",
       "  </tbody>\n",
       "</table>\n",
       "</div>"
      ],
      "text/plain": [
       "     stock   Close     Daily       WTD       MTD        YTD\n",
       "0  9988.HK  258.00  0.000000 -2.272727 -1.300686  24.517376\n",
       "0  3311.HK    4.91 -2.964429 -3.725491 -4.101563 -30.649719"
      ]
     },
     "execution_count": 119,
     "metadata": {},
     "output_type": "execute_result"
    }
   ],
   "source": [
    "tickers = ['9988.HK', '3311.HK']\n",
    "\n",
    "def get_pct_changes(tickers):\n",
    "    df_list = []\n",
    "    for ticker in tickers:\n",
    "        l_year = datetime.date.today() - pd.tseries.offsets.YearBegin() - datetime.timedelta(1)\n",
    "#         prices = data.DataReader(ticker, 'yahoo', this_year)['Close']\n",
    "        prices = yf.download(ticker, start=l_year)['Close']\n",
    "        # get all timestamps for specific lookups\n",
    "        today = prices.index[-1]\n",
    "        yest= prices.index[-2]\n",
    "        start = prices.index[0]\n",
    "        print(start)\n",
    "        week = today - pd.tseries.offsets.Week(weekday=0) - datetime.timedelta(3)\n",
    "        month = today - pd.tseries.offsets.BMonthBegin() - datetime.timedelta(1)\n",
    "\n",
    "        # calculate percentage changes\n",
    "        close = prices[today]\n",
    "        daily =  (close - prices[yest]) / prices[yest] * 100\n",
    "        wtd = (close - prices[week]) / prices[week] * 100\n",
    "        mtd = (close - prices[month]) / prices[month] * 100\n",
    "        ytd = (close - prices[start]) / prices[start]* 100\n",
    "\n",
    "        # create temporary frame for current ticker\n",
    "        df = pd.DataFrame(data=[[ticker, close, daily, wtd, mtd,  ytd]], \n",
    "                          columns=['stock', 'Close', 'Daily', 'WTD', 'MTD', 'YTD'])\n",
    "        df_list.append(df)\n",
    "    changes = pd.concat(df_list)\n",
    "    return changes\n",
    "\n",
    "# stack all frames\n",
    "c, p = get_pct_changes(tickers)\n",
    "c"
   ]
  },
  {
   "cell_type": "code",
   "execution_count": 86,
   "metadata": {},
   "outputs": [],
   "source": [
    "today = datetime.datetime.now()"
   ]
  },
  {
   "cell_type": "code",
   "execution_count": 88,
   "metadata": {},
   "outputs": [],
   "source": [
    "last_year = today.year-1\n"
   ]
  },
  {
   "cell_type": "code",
   "execution_count": 89,
   "metadata": {},
   "outputs": [
    {
     "data": {
      "text/plain": [
       "2019"
      ]
     },
     "execution_count": 89,
     "metadata": {},
     "output_type": "execute_result"
    }
   ],
   "source": [
    "last_year"
   ]
  },
  {
   "cell_type": "code",
   "execution_count": 90,
   "metadata": {},
   "outputs": [],
   "source": [
    "prices = data.DataReader(ticker, 'yahoo', '2019')['Close']"
   ]
  },
  {
   "cell_type": "code",
   "execution_count": 93,
   "metadata": {},
   "outputs": [
    {
     "data": {
      "text/plain": [
       "Timestamp('2020-12-07 00:00:00')"
      ]
     },
     "execution_count": 93,
     "metadata": {},
     "output_type": "execute_result"
    }
   ],
   "source": [
    "prices.index[]"
   ]
  },
  {
   "cell_type": "code",
   "execution_count": 101,
   "metadata": {},
   "outputs": [
    {
     "data": {
      "text/plain": [
       "Timestamp('2020-12-01 00:00:40.898071')"
      ]
     },
     "execution_count": 101,
     "metadata": {},
     "output_type": "execute_result"
    }
   ],
   "source": [
    "today -pd.tseries.offsets.BMonthBegin()"
   ]
  },
  {
   "cell_type": "code",
   "execution_count": null,
   "metadata": {},
   "outputs": [],
   "source": []
  }
 ],
 "metadata": {
  "kernelspec": {
   "display_name": "Python 3",
   "language": "python",
   "name": "python3"
  },
  "language_info": {
   "codemirror_mode": {
    "name": "ipython",
    "version": 3
   },
   "file_extension": ".py",
   "mimetype": "text/x-python",
   "name": "python",
   "nbconvert_exporter": "python",
   "pygments_lexer": "ipython3",
   "version": "3.7.4"
  }
 },
 "nbformat": 4,
 "nbformat_minor": 2
}
